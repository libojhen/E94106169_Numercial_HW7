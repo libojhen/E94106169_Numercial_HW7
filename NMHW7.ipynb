{
 "cells": [
  {
   "cell_type": "code",
   "execution_count": 3,
   "id": "8e8e7452-ebc6-4d40-a159-1c59314c5c84",
   "metadata": {},
   "outputs": [
    {
     "name": "stdout",
     "output_type": "stream",
     "text": [
      "Jacobi result in 47 iterations:\n",
      "[1.17478856 1.64317358 2.44824809 3.05598067 3.94965767 3.09947644]\n"
     ]
    }
   ],
   "source": [
    "import numpy as np\n",
    "A = np.array([[ 4, -1,  0, -1,  0,  0],\n",
    "              [-1,  4, -1,  0, -1,  0],\n",
    "              [ 0, -1,  4,  0,  1, -1],\n",
    "              [-1,  0,  0,  4, -1, -1],\n",
    "              [ 0, -1,  0, -1,  4, -1],\n",
    "              [ 0,  0, -1,  0, -1,  4]], dtype=float)\n",
    "b = np.array([0, -1, 9, 4, 8, 6], dtype=float)\n",
    "\n",
    "def jacobi(A, b, x0, tol=1e-10, max_iter=1000):\n",
    "    D = np.diag(np.diag(A))\n",
    "    R = A - D\n",
    "    x = x0.copy()\n",
    "    for i in range(max_iter):\n",
    "        x_new = np.linalg.inv(D) @ (b - R @ x)\n",
    "        if np.linalg.norm(x_new - x, np.inf) < tol:\n",
    "            return x_new, i + 1\n",
    "        x = x_new\n",
    "    return x, max_iter\n",
    "\n",
    "# 初始猜測\n",
    "x0 = np.zeros_like(b)\n",
    "# 執行\n",
    "x_jacobi, it_jacobi = jacobi(A, b, x0)\n",
    "# 顯示結果\n",
    "print(f\"Jacobi result in {it_jacobi} iterations:\\n{x_jacobi}\")"
   ]
  },
  {
   "cell_type": "code",
   "execution_count": 5,
   "id": "9b229783-65d6-45e4-8b19-f7c009e480cc",
   "metadata": {},
   "outputs": [
    {
     "name": "stdout",
     "output_type": "stream",
     "text": [
      "Gauss-Seidel result in 19 iterations:\n",
      "[1.17478856 1.64317358 2.44824809 3.05598067 3.94965767 3.09947644]\n"
     ]
    }
   ],
   "source": [
    "def gauss_seidel(A, b, x0, tol=1e-10, max_iter=1000):\n",
    "    x = x0.copy()\n",
    "    n = len(b)\n",
    "    for it in range(max_iter):\n",
    "        x_new = x.copy()\n",
    "        for i in range(n):\n",
    "            s1 = np.dot(A[i, :i], x_new[:i])\n",
    "            s2 = np.dot(A[i, i+1:], x[i+1:])\n",
    "            x_new[i] = (b[i] - s1 - s2) / A[i, i]\n",
    "        if np.linalg.norm(x_new - x, np.inf) < tol:\n",
    "            return x_new, it + 1\n",
    "        x = x_new\n",
    "    return x, max_iter\n",
    "\n",
    "# 初始猜測\n",
    "x0 = np.zeros_like(b)\n",
    "\n",
    "x_gs, it_gs = gauss_seidel(A, b, x0)\n",
    "print(f\"Gauss-Seidel result in {it_gs} iterations:\\n{x_gs}\")"
   ]
  },
  {
   "cell_type": "code",
   "execution_count": 7,
   "id": "9f15551c-ad91-4cf3-891c-da31dd943a3a",
   "metadata": {},
   "outputs": [
    {
     "name": "stdout",
     "output_type": "stream",
     "text": [
      "SOR result (ω=1.25) in 25 iterations:\n",
      "[1.17478856 1.64317358 2.44824809 3.05598067 3.94965767 3.09947644]\n"
     ]
    }
   ],
   "source": [
    "import numpy as np\n",
    "A = np.array([[ 4, -1,  0, -1,  0,  0],\n",
    "              [-1,  4, -1,  0, -1,  0],\n",
    "              [ 0, -1,  4,  0,  1, -1],\n",
    "              [-1,  0,  0,  4, -1, -1],\n",
    "              [ 0, -1,  0, -1,  4, -1],\n",
    "              [ 0,  0, -1,  0, -1,  4]], dtype=float)\n",
    "b = np.array([0, -1, 9, 4, 8, 6], dtype=float)\n",
    "def sor(A, b, x0, w=1.2, tol=1e-10, max_iter=1000):\n",
    "    x = x0.copy()\n",
    "    n = len(b)\n",
    "    for it in range(max_iter):\n",
    "        x_new = x.copy()\n",
    "        for i in range(n):\n",
    "            s1 = np.dot(A[i, :i], x_new[:i])\n",
    "            s2 = np.dot(A[i, i+1:], x[i+1:])\n",
    "            x_new[i] = (1 - w) * x[i] + (w / A[i, i]) * (b[i] - s1 - s2)\n",
    "        if np.linalg.norm(x_new - x, np.inf) < tol:\n",
    "            return x_new, it + 1\n",
    "        x = x_new\n",
    "    return x, max_iter\n",
    "\n",
    "# 初始猜測\n",
    "x0 = np.zeros_like(b)\n",
    "\n",
    "x_sor, it_sor = sor(A, b, x0, w=1.25)\n",
    "print(f\"SOR result (ω=1.25) in {it_sor} iterations:\\n{x_sor}\")"
   ]
  },
  {
   "cell_type": "code",
   "execution_count": 9,
   "id": "b641b3d5-5100-454d-b713-5ad42169db09",
   "metadata": {},
   "outputs": [
    {
     "name": "stdout",
     "output_type": "stream",
     "text": [
      "Conjugate Gradient result in 1000 iterations:\n",
      "[1.17656665 1.64269366 2.44433267 3.06002082 3.95260785 3.09922059]\n"
     ]
    }
   ],
   "source": [
    "import numpy as np\n",
    "A = np.array([[ 4, -1,  0, -1,  0,  0],\n",
    "              [-1,  4, -1,  0, -1,  0],\n",
    "              [ 0, -1,  4,  0,  1, -1],\n",
    "              [-1,  0,  0,  4, -1, -1],\n",
    "              [ 0, -1,  0, -1,  4, -1],\n",
    "              [ 0,  0, -1,  0, -1,  4]], dtype=float)\n",
    "b = np.array([0, -1, 9, 4, 8, 6], dtype=float)\n",
    "\n",
    "def conjugate_gradient(A, b, x0, tol=1e-10, max_iter=1000):\n",
    "    x = x0.copy()\n",
    "    r = b - A @ x\n",
    "    p = r.copy()\n",
    "    rs_old = np.dot(r, r)\n",
    "    for i in range(max_iter):\n",
    "        Ap = A @ p\n",
    "        alpha = rs_old / np.dot(p, Ap)\n",
    "        x += alpha * p\n",
    "        r -= alpha * Ap\n",
    "        rs_new = np.dot(r, r)\n",
    "        if np.sqrt(rs_new) < tol:\n",
    "            return x, i + 1\n",
    "        p = r + (rs_new / rs_old) * p\n",
    "        rs_old = rs_new\n",
    "    return x, max_iter\n",
    "# 初始猜測\n",
    "x0 = np.zeros_like(b)\n",
    "x_cg, it_cg = conjugate_gradient(A, b, x0)\n",
    "print(f\"Conjugate Gradient result in {it_cg} iterations:\\n{x_cg}\")"
   ]
  },
  {
   "cell_type": "code",
   "execution_count": null,
   "id": "1cd7cb59-087a-41d8-a050-2fd61d8ff729",
   "metadata": {},
   "outputs": [],
   "source": []
  }
 ],
 "metadata": {
  "kernelspec": {
   "display_name": "Python (PyTorch CPU)",
   "language": "python",
   "name": "pytorch_cpu"
  },
  "language_info": {
   "codemirror_mode": {
    "name": "ipython",
    "version": 3
   },
   "file_extension": ".py",
   "mimetype": "text/x-python",
   "name": "python",
   "nbconvert_exporter": "python",
   "pygments_lexer": "ipython3",
   "version": "3.10.16"
  }
 },
 "nbformat": 4,
 "nbformat_minor": 5
}
